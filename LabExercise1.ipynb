{
 "cells": [
  {
   "cell_type": "markdown",
   "metadata": {},
   "source": [
    "## IMPORTS"
   ]
  },
  {
   "cell_type": "code",
   "execution_count": 872,
   "metadata": {},
   "outputs": [],
   "source": [
    "import numpy as np\n",
    "import pandas as pd\n",
    "import matplotlib.pyplot as plt\n",
    "import seaborn as sns\n",
    "\n",
    "data = pd.read_csv(\"House_Rent_Dataset.csv\")"
   ]
  },
  {
   "cell_type": "code",
   "execution_count": 873,
   "metadata": {},
   "outputs": [
    {
     "data": {
      "text/html": [
       "<div>\n",
       "<style scoped>\n",
       "    .dataframe tbody tr th:only-of-type {\n",
       "        vertical-align: middle;\n",
       "    }\n",
       "\n",
       "    .dataframe tbody tr th {\n",
       "        vertical-align: top;\n",
       "    }\n",
       "\n",
       "    .dataframe thead th {\n",
       "        text-align: right;\n",
       "    }\n",
       "</style>\n",
       "<table border=\"1\" class=\"dataframe\">\n",
       "  <thead>\n",
       "    <tr style=\"text-align: right;\">\n",
       "      <th></th>\n",
       "      <th>Posted On</th>\n",
       "      <th>BHK</th>\n",
       "      <th>Rent</th>\n",
       "      <th>Size</th>\n",
       "      <th>Floor</th>\n",
       "      <th>Area Type</th>\n",
       "      <th>Area Locality</th>\n",
       "      <th>City</th>\n",
       "      <th>Furnishing Status</th>\n",
       "      <th>Tenant Preferred</th>\n",
       "      <th>Bathroom</th>\n",
       "      <th>Point of Contact</th>\n",
       "    </tr>\n",
       "  </thead>\n",
       "  <tbody>\n",
       "    <tr>\n",
       "      <th>0</th>\n",
       "      <td>2022-05-18</td>\n",
       "      <td>2</td>\n",
       "      <td>10000</td>\n",
       "      <td>1100</td>\n",
       "      <td>Ground out of 2</td>\n",
       "      <td>Super Area</td>\n",
       "      <td>Bandel</td>\n",
       "      <td>Kolkata</td>\n",
       "      <td>Unfurnished</td>\n",
       "      <td>Bachelors/Family</td>\n",
       "      <td>2</td>\n",
       "      <td>Contact Owner</td>\n",
       "    </tr>\n",
       "    <tr>\n",
       "      <th>1</th>\n",
       "      <td>2022-05-13</td>\n",
       "      <td>2</td>\n",
       "      <td>20000</td>\n",
       "      <td>800</td>\n",
       "      <td>1 out of 3</td>\n",
       "      <td>Super Area</td>\n",
       "      <td>Phool Bagan, Kankurgachi</td>\n",
       "      <td>Kolkata</td>\n",
       "      <td>Semi-Furnished</td>\n",
       "      <td>Bachelors/Family</td>\n",
       "      <td>1</td>\n",
       "      <td>Contact Owner</td>\n",
       "    </tr>\n",
       "    <tr>\n",
       "      <th>2</th>\n",
       "      <td>2022-05-16</td>\n",
       "      <td>2</td>\n",
       "      <td>17000</td>\n",
       "      <td>1000</td>\n",
       "      <td>1 out of 3</td>\n",
       "      <td>Super Area</td>\n",
       "      <td>Salt Lake City Sector 2</td>\n",
       "      <td>Kolkata</td>\n",
       "      <td>Semi-Furnished</td>\n",
       "      <td>Bachelors/Family</td>\n",
       "      <td>1</td>\n",
       "      <td>Contact Owner</td>\n",
       "    </tr>\n",
       "    <tr>\n",
       "      <th>3</th>\n",
       "      <td>2022-07-04</td>\n",
       "      <td>2</td>\n",
       "      <td>10000</td>\n",
       "      <td>800</td>\n",
       "      <td>1 out of 2</td>\n",
       "      <td>Super Area</td>\n",
       "      <td>Dumdum Park</td>\n",
       "      <td>Kolkata</td>\n",
       "      <td>Unfurnished</td>\n",
       "      <td>Bachelors/Family</td>\n",
       "      <td>1</td>\n",
       "      <td>Contact Owner</td>\n",
       "    </tr>\n",
       "    <tr>\n",
       "      <th>4</th>\n",
       "      <td>2022-05-09</td>\n",
       "      <td>2</td>\n",
       "      <td>7500</td>\n",
       "      <td>850</td>\n",
       "      <td>1 out of 2</td>\n",
       "      <td>Carpet Area</td>\n",
       "      <td>South Dum Dum</td>\n",
       "      <td>Kolkata</td>\n",
       "      <td>Unfurnished</td>\n",
       "      <td>Bachelors</td>\n",
       "      <td>1</td>\n",
       "      <td>Contact Owner</td>\n",
       "    </tr>\n",
       "  </tbody>\n",
       "</table>\n",
       "</div>"
      ],
      "text/plain": [
       "    Posted On  BHK   Rent  Size            Floor    Area Type  \\\n",
       "0  2022-05-18    2  10000  1100  Ground out of 2   Super Area   \n",
       "1  2022-05-13    2  20000   800       1 out of 3   Super Area   \n",
       "2  2022-05-16    2  17000  1000       1 out of 3   Super Area   \n",
       "3  2022-07-04    2  10000   800       1 out of 2   Super Area   \n",
       "4  2022-05-09    2   7500   850       1 out of 2  Carpet Area   \n",
       "\n",
       "              Area Locality     City Furnishing Status  Tenant Preferred  \\\n",
       "0                    Bandel  Kolkata       Unfurnished  Bachelors/Family   \n",
       "1  Phool Bagan, Kankurgachi  Kolkata    Semi-Furnished  Bachelors/Family   \n",
       "2   Salt Lake City Sector 2  Kolkata    Semi-Furnished  Bachelors/Family   \n",
       "3               Dumdum Park  Kolkata       Unfurnished  Bachelors/Family   \n",
       "4             South Dum Dum  Kolkata       Unfurnished         Bachelors   \n",
       "\n",
       "   Bathroom Point of Contact  \n",
       "0         2    Contact Owner  \n",
       "1         1    Contact Owner  \n",
       "2         1    Contact Owner  \n",
       "3         1    Contact Owner  \n",
       "4         1    Contact Owner  "
      ]
     },
     "execution_count": 873,
     "metadata": {},
     "output_type": "execute_result"
    }
   ],
   "source": [
    "data.head()"
   ]
  },
  {
   "cell_type": "markdown",
   "metadata": {},
   "source": [
    "### Exploratory Data Analysis"
   ]
  },
  {
   "cell_type": "code",
   "execution_count": 874,
   "metadata": {},
   "outputs": [
    {
     "data": {
      "text/plain": [
       "array(['Bachelors/Family', 'Bachelors', 'Family'], dtype=object)"
      ]
     },
     "execution_count": 874,
     "metadata": {},
     "output_type": "execute_result"
    }
   ],
   "source": [
    "data['Tenant Preferred'].unique()"
   ]
  },
  {
   "cell_type": "code",
   "execution_count": 875,
   "metadata": {},
   "outputs": [
    {
     "data": {
      "text/plain": [
       "array(['Super Area', 'Carpet Area', 'Built Area'], dtype=object)"
      ]
     },
     "execution_count": 875,
     "metadata": {},
     "output_type": "execute_result"
    }
   ],
   "source": [
    "data['Area Type'].unique()"
   ]
  },
  {
   "cell_type": "code",
   "execution_count": 876,
   "metadata": {},
   "outputs": [
    {
     "data": {
      "text/plain": [
       "<Axes: xlabel='BHK', ylabel='Rent'>"
      ]
     },
     "execution_count": 876,
     "metadata": {},
     "output_type": "execute_result"
    },
    {
     "data": {
      "image/png": "[encoded data removed]",
      "text/plain": [
       "<Figure size 640x480 with 1 Axes>"
      ]
     },
     "metadata": {},
     "output_type": "display_data"
    }
   ],
   "source": [
    "sns.lineplot(x='BHK', y='Rent', data=data)"
   ]
  },
  {
   "cell_type": "code",
   "execution_count": 877,
   "metadata": {},
   "outputs": [
    {
     "data": {
      "text/plain": [
       "<seaborn.axisgrid.FacetGrid at 0x28d3595d6d0>"
      ]
     },
     "execution_count": 877,
     "metadata": {},
     "output_type": "execute_result"
    },
    {
     "data": {
      "image/png": "[encoded data removed]",
      "text/plain": [
       "<Figure size 500x500 with 1 Axes>"
      ]
     },
     "metadata": {},
     "output_type": "display_data"
    }
   ],
   "source": [
    "sns.displot(data['Rent'])"
   ]
  },
  {
   "cell_type": "markdown",
   "metadata": {},
   "source": [
    "## Preprocessing"
   ]
  },
  {
   "cell_type": "markdown",
   "metadata": {},
   "source": [
    "### Data Cleaning"
   ]
  },
  {
   "cell_type": "code",
   "execution_count": 878,
   "metadata": {},
   "outputs": [],
   "source": [
    "data = data[['BHK',\n",
    "             'Bathroom',\n",
    "             'Furnishing Status',\n",
    "             'Rent',\n",
    "             'Size',\n",
    "             #'Floor',\n",
    "             'Area Type',\n",
    "             'Tenant Preferred',\n",
    "             'Point of Contact',\n",
    "             #'Area Locality',\n",
    "             'City'\n",
    "             ]]"
   ]
  },
  {
   "cell_type": "markdown",
   "metadata": {},
   "source": [
    "#### Removing Rent Outliers"
   ]
  },
  {
   "cell_type": "code",
   "execution_count": 879,
   "metadata": {},
   "outputs": [],
   "source": [
    "Q1 = data['Rent'].quantile(0.25)\n",
    "Q3 = data['Rent'].quantile(0.75)\n",
    "IQR = Q3 - Q1\n",
    "\n",
    "# Define outlier boundaries\n",
    "lower_bound = Q1 - 1.5 * IQR\n",
    "upper_bound = Q3 + 1.5 * IQR\n",
    "\n",
    "# Filter out the outliers\n",
    "data = data[ (data['Rent'] >= lower_bound) & (data['Rent'] <= upper_bound)]"
   ]
  },
  {
   "cell_type": "code",
   "execution_count": 880,
   "metadata": {},
   "outputs": [
    {
     "data": {
      "text/html": [
       "<div>\n",
       "<style scoped>\n",
       "    .dataframe tbody tr th:only-of-type {\n",
       "        vertical-align: middle;\n",
       "    }\n",
       "\n",
       "    .dataframe tbody tr th {\n",
       "        vertical-align: top;\n",
       "    }\n",
       "\n",
       "    .dataframe thead th {\n",
       "        text-align: right;\n",
       "    }\n",
       "</style>\n",
       "<table border=\"1\" class=\"dataframe\">\n",
       "  <thead>\n",
       "    <tr style=\"text-align: right;\">\n",
       "      <th></th>\n",
       "      <th>BHK</th>\n",
       "      <th>Bathroom</th>\n",
       "      <th>Furnishing Status</th>\n",
       "      <th>Rent</th>\n",
       "      <th>Size</th>\n",
       "      <th>Area Type</th>\n",
       "      <th>Tenant Preferred</th>\n",
       "      <th>Point of Contact</th>\n",
       "      <th>City</th>\n",
       "    </tr>\n",
       "  </thead>\n",
       "  <tbody>\n",
       "    <tr>\n",
       "      <th>0</th>\n",
       "      <td>2</td>\n",
       "      <td>2</td>\n",
       "      <td>Unfurnished</td>\n",
       "      <td>10000</td>\n",
       "      <td>1100</td>\n",
       "      <td>Super Area</td>\n",
       "      <td>Bachelors/Family</td>\n",
       "      <td>Contact Owner</td>\n",
       "      <td>Kolkata</td>\n",
       "    </tr>\n",
       "    <tr>\n",
       "      <th>1</th>\n",
       "      <td>2</td>\n",
       "      <td>1</td>\n",
       "      <td>Semi-Furnished</td>\n",
       "      <td>20000</td>\n",
       "      <td>800</td>\n",
       "      <td>Super Area</td>\n",
       "      <td>Bachelors/Family</td>\n",
       "      <td>Contact Owner</td>\n",
       "      <td>Kolkata</td>\n",
       "    </tr>\n",
       "    <tr>\n",
       "      <th>2</th>\n",
       "      <td>2</td>\n",
       "      <td>1</td>\n",
       "      <td>Semi-Furnished</td>\n",
       "      <td>17000</td>\n",
       "      <td>1000</td>\n",
       "      <td>Super Area</td>\n",
       "      <td>Bachelors/Family</td>\n",
       "      <td>Contact Owner</td>\n",
       "      <td>Kolkata</td>\n",
       "    </tr>\n",
       "    <tr>\n",
       "      <th>3</th>\n",
       "      <td>2</td>\n",
       "      <td>1</td>\n",
       "      <td>Unfurnished</td>\n",
       "      <td>10000</td>\n",
       "      <td>800</td>\n",
       "      <td>Super Area</td>\n",
       "      <td>Bachelors/Family</td>\n",
       "      <td>Contact Owner</td>\n",
       "      <td>Kolkata</td>\n",
       "    </tr>\n",
       "    <tr>\n",
       "      <th>4</th>\n",
       "      <td>2</td>\n",
       "      <td>1</td>\n",
       "      <td>Unfurnished</td>\n",
       "      <td>7500</td>\n",
       "      <td>850</td>\n",
       "      <td>Carpet Area</td>\n",
       "      <td>Bachelors</td>\n",
       "      <td>Contact Owner</td>\n",
       "      <td>Kolkata</td>\n",
       "    </tr>\n",
       "  </tbody>\n",
       "</table>\n",
       "</div>"
      ],
      "text/plain": [
       "   BHK  Bathroom Furnishing Status   Rent  Size    Area Type  \\\n",
       "0    2         2       Unfurnished  10000  1100   Super Area   \n",
       "1    2         1    Semi-Furnished  20000   800   Super Area   \n",
       "2    2         1    Semi-Furnished  17000  1000   Super Area   \n",
       "3    2         1       Unfurnished  10000   800   Super Area   \n",
       "4    2         1       Unfurnished   7500   850  Carpet Area   \n",
       "\n",
       "   Tenant Preferred Point of Contact     City  \n",
       "0  Bachelors/Family    Contact Owner  Kolkata  \n",
       "1  Bachelors/Family    Contact Owner  Kolkata  \n",
       "2  Bachelors/Family    Contact Owner  Kolkata  \n",
       "3  Bachelors/Family    Contact Owner  Kolkata  \n",
       "4         Bachelors    Contact Owner  Kolkata  "
      ]
     },
     "execution_count": 880,
     "metadata": {},
     "output_type": "execute_result"
    }
   ],
   "source": [
    "data.head()"
   ]
  },
  {
   "cell_type": "markdown",
   "metadata": {},
   "source": [
    "### Encoding"
   ]
  },
  {
   "cell_type": "code",
   "execution_count": 881,
   "metadata": {},
   "outputs": [],
   "source": [
    "def one_hot_encode(data, column):\n",
    "    encoded = pd.get_dummies(data[column], drop_first= True)\n",
    "    data = data.drop(column, axis = 1)\n",
    "    data = data.join(encoded)\n",
    "    return data\n",
    "\n",
    "data = one_hot_encode(data, 'Furnishing Status')\n",
    "data = one_hot_encode(data, 'Tenant Preferred')\n",
    "data = one_hot_encode(data, 'Point of Contact')\n",
    "data = one_hot_encode(data, 'Area Type')\n",
    "data = one_hot_encode(data, 'City')"
   ]
  },
  {
   "cell_type": "code",
   "execution_count": 882,
   "metadata": {},
   "outputs": [
    {
     "data": {
      "text/html": [
       "<div>\n",
       "<style scoped>\n",
       "    .dataframe tbody tr th:only-of-type {\n",
       "        vertical-align: middle;\n",
       "    }\n",
       "\n",
       "    .dataframe tbody tr th {\n",
       "        vertical-align: top;\n",
       "    }\n",
       "\n",
       "    .dataframe thead th {\n",
       "        text-align: right;\n",
       "    }\n",
       "</style>\n",
       "<table border=\"1\" class=\"dataframe\">\n",
       "  <thead>\n",
       "    <tr style=\"text-align: right;\">\n",
       "      <th></th>\n",
       "      <th>BHK</th>\n",
       "      <th>Bathroom</th>\n",
       "      <th>Rent</th>\n",
       "      <th>Size</th>\n",
       "      <th>Semi-Furnished</th>\n",
       "      <th>Unfurnished</th>\n",
       "      <th>Bachelors/Family</th>\n",
       "      <th>Family</th>\n",
       "      <th>Contact Builder</th>\n",
       "      <th>Contact Owner</th>\n",
       "      <th>Carpet Area</th>\n",
       "      <th>Super Area</th>\n",
       "      <th>Chennai</th>\n",
       "      <th>Delhi</th>\n",
       "      <th>Hyderabad</th>\n",
       "      <th>Kolkata</th>\n",
       "      <th>Mumbai</th>\n",
       "    </tr>\n",
       "  </thead>\n",
       "  <tbody>\n",
       "    <tr>\n",
       "      <th>0</th>\n",
       "      <td>2</td>\n",
       "      <td>2</td>\n",
       "      <td>10000</td>\n",
       "      <td>1100</td>\n",
       "      <td>False</td>\n",
       "      <td>True</td>\n",
       "      <td>True</td>\n",
       "      <td>False</td>\n",
       "      <td>False</td>\n",
       "      <td>True</td>\n",
       "      <td>False</td>\n",
       "      <td>True</td>\n",
       "      <td>False</td>\n",
       "      <td>False</td>\n",
       "      <td>False</td>\n",
       "      <td>True</td>\n",
       "      <td>False</td>\n",
       "    </tr>\n",
       "    <tr>\n",
       "      <th>1</th>\n",
       "      <td>2</td>\n",
       "      <td>1</td>\n",
       "      <td>20000</td>\n",
       "      <td>800</td>\n",
       "      <td>True</td>\n",
       "      <td>False</td>\n",
       "      <td>True</td>\n",
       "      <td>False</td>\n",
       "      <td>False</td>\n",
       "      <td>True</td>\n",
       "      <td>False</td>\n",
       "      <td>True</td>\n",
       "      <td>False</td>\n",
       "      <td>False</td>\n",
       "      <td>False</td>\n",
       "      <td>True</td>\n",
       "      <td>False</td>\n",
       "    </tr>\n",
       "    <tr>\n",
       "      <th>2</th>\n",
       "      <td>2</td>\n",
       "      <td>1</td>\n",
       "      <td>17000</td>\n",
       "      <td>1000</td>\n",
       "      <td>True</td>\n",
       "      <td>False</td>\n",
       "      <td>True</td>\n",
       "      <td>False</td>\n",
       "      <td>False</td>\n",
       "      <td>True</td>\n",
       "      <td>False</td>\n",
       "      <td>True</td>\n",
       "      <td>False</td>\n",
       "      <td>False</td>\n",
       "      <td>False</td>\n",
       "      <td>True</td>\n",
       "      <td>False</td>\n",
       "    </tr>\n",
       "    <tr>\n",
       "      <th>3</th>\n",
       "      <td>2</td>\n",
       "      <td>1</td>\n",
       "      <td>10000</td>\n",
       "      <td>800</td>\n",
       "      <td>False</td>\n",
       "      <td>True</td>\n",
       "      <td>True</td>\n",
       "      <td>False</td>\n",
       "      <td>False</td>\n",
       "      <td>True</td>\n",
       "      <td>False</td>\n",
       "      <td>True</td>\n",
       "      <td>False</td>\n",
       "      <td>False</td>\n",
       "      <td>False</td>\n",
       "      <td>True</td>\n",
       "      <td>False</td>\n",
       "    </tr>\n",
       "    <tr>\n",
       "      <th>4</th>\n",
       "      <td>2</td>\n",
       "      <td>1</td>\n",
       "      <td>7500</td>\n",
       "      <td>850</td>\n",
       "      <td>False</td>\n",
       "      <td>True</td>\n",
       "      <td>False</td>\n",
       "      <td>False</td>\n",
       "      <td>False</td>\n",
       "      <td>True</td>\n",
       "      <td>True</td>\n",
       "      <td>False</td>\n",
       "      <td>False</td>\n",
       "      <td>False</td>\n",
       "      <td>False</td>\n",
       "      <td>True</td>\n",
       "      <td>False</td>\n",
       "    </tr>\n",
       "    <tr>\n",
       "      <th>...</th>\n",
       "      <td>...</td>\n",
       "      <td>...</td>\n",
       "      <td>...</td>\n",
       "      <td>...</td>\n",
       "      <td>...</td>\n",
       "      <td>...</td>\n",
       "      <td>...</td>\n",
       "      <td>...</td>\n",
       "      <td>...</td>\n",
       "      <td>...</td>\n",
       "      <td>...</td>\n",
       "      <td>...</td>\n",
       "      <td>...</td>\n",
       "      <td>...</td>\n",
       "      <td>...</td>\n",
       "      <td>...</td>\n",
       "      <td>...</td>\n",
       "    </tr>\n",
       "    <tr>\n",
       "      <th>4741</th>\n",
       "      <td>2</td>\n",
       "      <td>2</td>\n",
       "      <td>15000</td>\n",
       "      <td>1000</td>\n",
       "      <td>True</td>\n",
       "      <td>False</td>\n",
       "      <td>True</td>\n",
       "      <td>False</td>\n",
       "      <td>False</td>\n",
       "      <td>True</td>\n",
       "      <td>True</td>\n",
       "      <td>False</td>\n",
       "      <td>False</td>\n",
       "      <td>False</td>\n",
       "      <td>True</td>\n",
       "      <td>False</td>\n",
       "      <td>False</td>\n",
       "    </tr>\n",
       "    <tr>\n",
       "      <th>4742</th>\n",
       "      <td>3</td>\n",
       "      <td>3</td>\n",
       "      <td>29000</td>\n",
       "      <td>2000</td>\n",
       "      <td>True</td>\n",
       "      <td>False</td>\n",
       "      <td>True</td>\n",
       "      <td>False</td>\n",
       "      <td>False</td>\n",
       "      <td>True</td>\n",
       "      <td>False</td>\n",
       "      <td>True</td>\n",
       "      <td>False</td>\n",
       "      <td>False</td>\n",
       "      <td>True</td>\n",
       "      <td>False</td>\n",
       "      <td>False</td>\n",
       "    </tr>\n",
       "    <tr>\n",
       "      <th>4743</th>\n",
       "      <td>3</td>\n",
       "      <td>3</td>\n",
       "      <td>35000</td>\n",
       "      <td>1750</td>\n",
       "      <td>True</td>\n",
       "      <td>False</td>\n",
       "      <td>True</td>\n",
       "      <td>False</td>\n",
       "      <td>False</td>\n",
       "      <td>False</td>\n",
       "      <td>True</td>\n",
       "      <td>False</td>\n",
       "      <td>False</td>\n",
       "      <td>False</td>\n",
       "      <td>True</td>\n",
       "      <td>False</td>\n",
       "      <td>False</td>\n",
       "    </tr>\n",
       "    <tr>\n",
       "      <th>4744</th>\n",
       "      <td>3</td>\n",
       "      <td>2</td>\n",
       "      <td>45000</td>\n",
       "      <td>1500</td>\n",
       "      <td>True</td>\n",
       "      <td>False</td>\n",
       "      <td>False</td>\n",
       "      <td>True</td>\n",
       "      <td>False</td>\n",
       "      <td>False</td>\n",
       "      <td>True</td>\n",
       "      <td>False</td>\n",
       "      <td>False</td>\n",
       "      <td>False</td>\n",
       "      <td>True</td>\n",
       "      <td>False</td>\n",
       "      <td>False</td>\n",
       "    </tr>\n",
       "    <tr>\n",
       "      <th>4745</th>\n",
       "      <td>2</td>\n",
       "      <td>2</td>\n",
       "      <td>15000</td>\n",
       "      <td>1000</td>\n",
       "      <td>False</td>\n",
       "      <td>True</td>\n",
       "      <td>False</td>\n",
       "      <td>False</td>\n",
       "      <td>False</td>\n",
       "      <td>True</td>\n",
       "      <td>True</td>\n",
       "      <td>False</td>\n",
       "      <td>False</td>\n",
       "      <td>False</td>\n",
       "      <td>True</td>\n",
       "      <td>False</td>\n",
       "      <td>False</td>\n",
       "    </tr>\n",
       "  </tbody>\n",
       "</table>\n",
       "<p>4226 rows × 17 columns</p>\n",
       "</div>"
      ],
      "text/plain": [
       "      BHK  Bathroom   Rent  Size  Semi-Furnished  Unfurnished  \\\n",
       "0       2         2  10000  1100           False         True   \n",
       "1       2         1  20000   800            True        False   \n",
       "2       2         1  17000  1000            True        False   \n",
       "3       2         1  10000   800           False         True   \n",
       "4       2         1   7500   850           False         True   \n",
       "...   ...       ...    ...   ...             ...          ...   \n",
       "4741    2         2  15000  1000            True        False   \n",
       "4742    3         3  29000  2000            True        False   \n",
       "4743    3         3  35000  1750            True        False   \n",
       "4744    3         2  45000  1500            True        False   \n",
       "4745    2         2  15000  1000           False         True   \n",
       "\n",
       "      Bachelors/Family  Family  Contact Builder  Contact Owner  Carpet Area  \\\n",
       "0                 True   False            False           True        False   \n",
       "1                 True   False            False           True        False   \n",
       "2                 True   False            False           True        False   \n",
       "3                 True   False            False           True        False   \n",
       "4                False   False            False           True         True   \n",
       "...                ...     ...              ...            ...          ...   \n",
       "4741              True   False            False           True         True   \n",
       "4742              True   False            False           True        False   \n",
       "4743              True   False            False          False         True   \n",
       "4744             False    True            False          False         True   \n",
       "4745             False   False            False           True         True   \n",
       "\n",
       "      Super Area  Chennai  Delhi  Hyderabad  Kolkata  Mumbai  \n",
       "0           True    False  False      False     True   False  \n",
       "1           True    False  False      False     True   False  \n",
       "2           True    False  False      False     True   False  \n",
       "3           True    False  False      False     True   False  \n",
       "4          False    False  False      False     True   False  \n",
       "...          ...      ...    ...        ...      ...     ...  \n",
       "4741       False    False  False       True    False   False  \n",
       "4742        True    False  False       True    False   False  \n",
       "4743       False    False  False       True    False   False  \n",
       "4744       False    False  False       True    False   False  \n",
       "4745       False    False  False       True    False   False  \n",
       "\n",
       "[4226 rows x 17 columns]"
      ]
     },
     "execution_count": 882,
     "metadata": {},
     "output_type": "execute_result"
    }
   ],
   "source": [
    "data"
   ]
  },
  {
   "cell_type": "markdown",
   "metadata": {},
   "source": [
    "### Train/Test Splitting"
   ]
  },
  {
   "cell_type": "code",
   "execution_count": 883,
   "metadata": {},
   "outputs": [],
   "source": [
    "X = data.drop('Rent', axis= 1)\n",
    "y = data['Rent']\n",
    "\n",
    "from sklearn.model_selection import train_test_split\n",
    "X_train, X_test, y_train, y_test = train_test_split(X, y, test_size= 0.30, random_state = 42)"
   ]
  },
  {
   "cell_type": "markdown",
   "metadata": {},
   "source": [
    "### Standardization"
   ]
  },
  {
   "cell_type": "code",
   "execution_count": 884,
   "metadata": {},
   "outputs": [],
   "source": [
    "from sklearn.preprocessing import StandardScaler\n",
    "\n",
    "sc = StandardScaler()\n",
    "X_train = sc.fit_transform(X_train)\n",
    "X_test = sc.transform(X_test)"
   ]
  },
  {
   "cell_type": "code",
   "execution_count": 885,
   "metadata": {},
   "outputs": [],
   "source": [
    "from sklearn.preprocessing import PolynomialFeatures\n",
    "\n",
    "poly = PolynomialFeatures(degree=2)\n",
    "X_train = poly.fit_transform(X_train)\n",
    "X_test = poly.transform(X_test)\n"
   ]
  },
  {
   "cell_type": "markdown",
   "metadata": {},
   "source": [
    "## Modelling"
   ]
  },
  {
   "cell_type": "code",
   "execution_count": 886,
   "metadata": {},
   "outputs": [
    {
     "data": {
      "text/plain": [
       "array([ 0.00000000e+00,  1.90960359e+03,  1.54902226e+03,  5.45573758e+03,\n",
       "       -5.65290345e+02, -8.29478334e+02, -1.88503788e+02, -5.45885225e+01,\n",
       "       -8.42498666e-02, -1.35490933e+03,  2.06849235e+02, -2.04153322e+02,\n",
       "       -1.45778638e+02,  5.96182830e+01, -2.13020703e+02, -1.45652486e+02,\n",
       "        1.35046572e+03, -1.18642098e+02,  6.07343222e+02, -2.51824491e+02,\n",
       "        8.73251089e+02,  9.64131686e+02, -4.63047955e+02, -1.99097706e+02,\n",
       "       -3.50076974e+01, -2.65410685e+01, -4.81916642e+01,  4.60173684e+01,\n",
       "        2.62549119e+02,  1.40689716e+02,  8.62834467e+01, -6.55298473e+01,\n",
       "       -8.55509433e+01, -3.21053468e+02, -4.29237439e+01,  2.31081568e+02,\n",
       "        2.26593058e+02,  1.51596002e+02, -2.15342950e+02, -2.83893169e+01,\n",
       "       -6.66600460e+02,  2.26031652e+02, -2.28026191e+02,  7.52122656e+01,\n",
       "        7.02289860e+02,  3.92562691e+02,  2.49401688e+02, -6.39524358e+02,\n",
       "        2.60806381e+02, -1.27994220e+03, -1.57492514e+03,  1.78131818e+02,\n",
       "        7.20075553e+02, -1.00246997e+02, -1.10498790e+03, -1.99663738e+02,\n",
       "        2.01309882e+02, -8.13373115e+02, -1.24292353e+03, -1.04140919e+03,\n",
       "       -7.03570255e+01,  3.39459597e+03, -4.36044701e+01,  1.25247772e+03,\n",
       "       -3.47855337e+01,  2.63363620e+02,  1.04765757e+01,  1.09945263e+03,\n",
       "        1.40566102e+01, -1.70164098e+01,  1.24787658e+01, -3.78986343e+02,\n",
       "        1.11894756e+02, -1.54447481e+02,  1.64692377e+02, -3.65234685e+02,\n",
       "        1.20892367e+02,  1.91257135e+02,  1.51490311e+01,  5.82287526e+02,\n",
       "        7.30615816e+01, -7.02908188e+01, -1.22109407e+02, -7.39875192e+02,\n",
       "       -7.17649800e+01, -1.19174028e+02, -5.63641387e+02,  2.05180348e+02,\n",
       "        1.51965748e+02,  3.41645852e+00,  2.87202535e+02,  1.34067777e+02,\n",
       "       -1.32593272e+02, -2.22154636e+02, -7.22547519e+01, -1.52463305e+02,\n",
       "        5.86879857e+01,  4.22213068e+01, -1.53788965e+02,  1.03073032e+00,\n",
       "        4.28714798e+02,  9.39473479e+01, -9.48293056e+01, -1.11061247e+02,\n",
       "        9.83480678e+01, -2.32822749e+02, -1.36485433e+02, -1.93243140e+02,\n",
       "       -4.57981557e+00,  2.50636781e+01, -3.73041085e+00,  3.68078322e+00,\n",
       "        2.72412030e+00, -1.06382059e+00,  3.75001521e+00,  2.70936744e+00,\n",
       "       -2.48003216e+01,  1.59434643e+03, -9.22352026e+01,  9.28327066e+01,\n",
       "       -1.79467416e+02,  8.75362153e+02, -2.13910294e+02,  4.68130836e+02,\n",
       "       -6.44115318e+02,  5.67492209e+01, -5.89372695e+01, -1.77026315e+02,\n",
       "        5.44926915e+01, -3.73137078e+01, -9.11667119e+00, -1.92528745e+01,\n",
       "        5.57257371e+01,  1.75534778e+02, -5.54807393e+01,  4.24821290e+01,\n",
       "        8.03589052e+00,  1.90822898e+01, -2.08749224e+02,  2.56676935e+01,\n",
       "        1.82855098e+02,  1.28256179e+02, -6.34631904e+02,  1.31326901e+02,\n",
       "        5.22673349e+01,  3.44169914e+01, -5.45895033e+02, -3.15952012e+02,\n",
       "        1.51355583e+02, -5.93018695e+02, -3.44234206e+02, -4.35391597e+02,\n",
       "        2.76501789e+03])"
      ]
     },
     "execution_count": 886,
     "metadata": {},
     "output_type": "execute_result"
    }
   ],
   "source": [
    "from sklearn import linear_model\n",
    "from sklearn.linear_model import RidgeCV\n",
    "model = linear_model.LinearRegression()\n",
    "model = RidgeCV(alphas=[ 0.1, 1, 10])\n",
    "model.fit(X_train, y_train)\n",
    "model.coef_"
   ]
  },
  {
   "cell_type": "code",
   "execution_count": 887,
   "metadata": {},
   "outputs": [],
   "source": [
    "# from sklearn.linear_model import RidgeCV\n",
    "\n",
    "# model = RidgeCV()\n",
    "# model.fit(X_train, y_train)\n"
   ]
  },
  {
   "cell_type": "markdown",
   "metadata": {},
   "source": [
    "# Evaluation"
   ]
  },
  {
   "cell_type": "code",
   "execution_count": 888,
   "metadata": {},
   "outputs": [],
   "source": [
    "y_preds = model.predict(X_test)"
   ]
  },
  {
   "cell_type": "code",
   "execution_count": 889,
   "metadata": {},
   "outputs": [
    {
     "name": "stdout",
     "output_type": "stream",
     "text": [
      "Coefficients: \n",
      " [ 0.00000000e+00  1.90960359e+03  1.54902226e+03  5.45573758e+03\n",
      " -5.65290345e+02 -8.29478334e+02 -1.88503788e+02 -5.45885225e+01\n",
      " -8.42498666e-02 -1.35490933e+03  2.06849235e+02 -2.04153322e+02\n",
      " -1.45778638e+02  5.96182830e+01 -2.13020703e+02 -1.45652486e+02\n",
      "  1.35046572e+03 -1.18642098e+02  6.07343222e+02 -2.51824491e+02\n",
      "  8.73251089e+02  9.64131686e+02 -4.63047955e+02 -1.99097706e+02\n",
      " -3.50076974e+01 -2.65410685e+01 -4.81916642e+01  4.60173684e+01\n",
      "  2.62549119e+02  1.40689716e+02  8.62834467e+01 -6.55298473e+01\n",
      " -8.55509433e+01 -3.21053468e+02 -4.29237439e+01  2.31081568e+02\n",
      "  2.26593058e+02  1.51596002e+02 -2.15342950e+02 -2.83893169e+01\n",
      " -6.66600460e+02  2.26031652e+02 -2.28026191e+02  7.52122656e+01\n",
      "  7.02289860e+02  3.92562691e+02  2.49401688e+02 -6.39524358e+02\n",
      "  2.60806381e+02 -1.27994220e+03 -1.57492514e+03  1.78131818e+02\n",
      "  7.20075553e+02 -1.00246997e+02 -1.10498790e+03 -1.99663738e+02\n",
      "  2.01309882e+02 -8.13373115e+02 -1.24292353e+03 -1.04140919e+03\n",
      " -7.03570255e+01  3.39459597e+03 -4.36044701e+01  1.25247772e+03\n",
      " -3.47855337e+01  2.63363620e+02  1.04765757e+01  1.09945263e+03\n",
      "  1.40566102e+01 -1.70164098e+01  1.24787658e+01 -3.78986343e+02\n",
      "  1.11894756e+02 -1.54447481e+02  1.64692377e+02 -3.65234685e+02\n",
      "  1.20892367e+02  1.91257135e+02  1.51490311e+01  5.82287526e+02\n",
      "  7.30615816e+01 -7.02908188e+01 -1.22109407e+02 -7.39875192e+02\n",
      " -7.17649800e+01 -1.19174028e+02 -5.63641387e+02  2.05180348e+02\n",
      "  1.51965748e+02  3.41645852e+00  2.87202535e+02  1.34067777e+02\n",
      " -1.32593272e+02 -2.22154636e+02 -7.22547519e+01 -1.52463305e+02\n",
      "  5.86879857e+01  4.22213068e+01 -1.53788965e+02  1.03073032e+00\n",
      "  4.28714798e+02  9.39473479e+01 -9.48293056e+01 -1.11061247e+02\n",
      "  9.83480678e+01 -2.32822749e+02 -1.36485433e+02 -1.93243140e+02\n",
      " -4.57981557e+00  2.50636781e+01 -3.73041085e+00  3.68078322e+00\n",
      "  2.72412030e+00 -1.06382059e+00  3.75001521e+00  2.70936744e+00\n",
      " -2.48003216e+01  1.59434643e+03 -9.22352026e+01  9.28327066e+01\n",
      " -1.79467416e+02  8.75362153e+02 -2.13910294e+02  4.68130836e+02\n",
      " -6.44115318e+02  5.67492209e+01 -5.89372695e+01 -1.77026315e+02\n",
      "  5.44926915e+01 -3.73137078e+01 -9.11667119e+00 -1.92528745e+01\n",
      "  5.57257371e+01  1.75534778e+02 -5.54807393e+01  4.24821290e+01\n",
      "  8.03589052e+00  1.90822898e+01 -2.08749224e+02  2.56676935e+01\n",
      "  1.82855098e+02  1.28256179e+02 -6.34631904e+02  1.31326901e+02\n",
      "  5.22673349e+01  3.44169914e+01 -5.45895033e+02 -3.15952012e+02\n",
      "  1.51355583e+02 -5.93018695e+02 -3.44234206e+02 -4.35391597e+02\n",
      "  2.76501789e+03]\n",
      "Mean squared error: 57126257.54\n",
      "Coefficient of determination: 0.72\n"
     ]
    }
   ],
   "source": [
    "from sklearn.metrics import mean_squared_error, r2_score\n",
    "\n",
    "# The coefficients\n",
    "print(\"Coefficients: \\n\", model.coef_)\n",
    "# The mean squared error\n",
    "print(\"Mean squared error: %.2f\" % mean_squared_error(y_test, y_preds))\n",
    "# The coefficient of determination: 1 is perfect prediction\n",
    "print(\"Coefficient of determination: %.2f\" % r2_score(y_test, y_preds))"
   ]
  },
  {
   "cell_type": "markdown",
   "metadata": {},
   "source": [
    "### Qualitative Evaluation"
   ]
  },
  {
   "cell_type": "code",
   "execution_count": 890,
   "metadata": {},
   "outputs": [
    {
     "data": {
      "text/plain": [
       "BHK                     2\n",
       "Bathroom                2\n",
       "Size                 1100\n",
       "Semi-Furnished      False\n",
       "Unfurnished          True\n",
       "Bachelors/Family     True\n",
       "Family              False\n",
       "Contact Builder     False\n",
       "Contact Owner        True\n",
       "Carpet Area         False\n",
       "Super Area           True\n",
       "Chennai             False\n",
       "Delhi               False\n",
       "Hyderabad           False\n",
       "Kolkata              True\n",
       "Mumbai              False\n",
       "Name: 0, dtype: object"
      ]
     },
     "execution_count": 890,
     "metadata": {},
     "output_type": "execute_result"
    }
   ],
   "source": [
    "sample_data = X.iloc[0]\n",
    "sample_data"
   ]
  },
  {
   "cell_type": "code",
   "execution_count": 891,
   "metadata": {},
   "outputs": [],
   "source": [
    "sample_data_standardized = poly.transform(X.iloc[0].values.reshape(1,-1))"
   ]
  },
  {
   "cell_type": "code",
   "execution_count": 892,
   "metadata": {},
   "outputs": [
    {
     "data": {
      "text/plain": [
       "318345178.5587974"
      ]
     },
     "execution_count": 892,
     "metadata": {},
     "output_type": "execute_result"
    }
   ],
   "source": [
    "model_rent_forecast = model.predict(sample_data_standardized)[0]\n",
    "model_rent_forecast"
   ]
  },
  {
   "cell_type": "code",
   "execution_count": 893,
   "metadata": {},
   "outputs": [
    {
     "data": {
      "text/plain": [
       "10000"
      ]
     },
     "execution_count": 893,
     "metadata": {},
     "output_type": "execute_result"
    }
   ],
   "source": [
    "y.iloc[0]"
   ]
  },
  {
   "cell_type": "code",
   "execution_count": 894,
   "metadata": {},
   "outputs": [
    {
     "data": {
      "image/png": "[encoded data removed]",
      "text/plain": [
       "<Figure size 800x600 with 1 Axes>"
      ]
     },
     "metadata": {},
     "output_type": "display_data"
    }
   ],
   "source": [
    "plt.figure(figsize=(8,6))\n",
    "plt.plot(y_test, y_test, 'o', alpha=0.5, color='green', label='Actual Rent Prices')\n",
    "plt.plot(y_test, y_preds, 'o', alpha=0.5, color='skyblue', label='Predicted Rent Prices')\n",
    "\n",
    "plt.title(\"Actual vs. Predicted Rent Prices\")\n",
    "plt.xlabel(\"Actual Rent Prices\")\n",
    "plt.ylabel(\"Predicted Rent Prices\")\n",
    "\n",
    "plt.legend()\n",
    "plt.grid(True)\n",
    "plt.show()"
   ]
  }
 ],
 "metadata": {
  "kernelspec": {
   "display_name": "Python 3",
   "language": "python",
   "name": "python3"
  },
  "language_info": {
   "codemirror_mode": {
    "name": "ipython",
    "version": 3
   },
   "file_extension": ".py",
   "mimetype": "text/x-python",
   "name": "python",
   "nbconvert_exporter": "python",
   "pygments_lexer": "ipython3",
   "version": "3.12.1"
  }
 },
 "nbformat": 4,
 "nbformat_minor": 2
}
